{
 "cells": [
  {
   "cell_type": "markdown",
   "id": "31ab007a-041c-45cc-91a3-8dba6bdfdbf3",
   "metadata": {},
   "source": [
    "Data Science Tools and Ecosystem\n",
    "\n",
    "The data science ecosystem consists of a wide range of tools, libraries, frameworks, and platforms that help data scientists collect, clean, explore, model, and deploy data-driven solutions.\n",
    "1. Core Data Science Tools\n",
    "2. Cloud & DevOps Tools (Deployment and Scaling)"
   ]
  },
  {
   "cell_type": "markdown",
   "id": "b5363bb5-1eae-4b4f-b6bf-cd4bbfd9cfd7",
   "metadata": {},
   "source": [
    "Introduction\n",
    "\n",
    "1. Data Science tools\n",
    "are software applications, libraries, frameworks, or platforms that assist in various stages of the data science lifecycle—such as data collection, cleaning, exploration, modeling, visualization, and deployment. These tools make the process more efficient, scalable, and accurate.\n",
    "\n",
    "2.The Data Science Ecosystem refers to the complete environment that includes:\n",
    "Programming languages\n",
    "Libraries and frameworks\n",
    "Data storage and databases\n",
    "Cloud computing platforms\n",
    "Machine learning tools\n",
    "Visualization software\n",
    "Big data technologies\n",
    "Development and deployment infrastructure"
   ]
  },
  {
   "cell_type": "markdown",
   "id": "95266fbe-5361-41df-9e49-d655c3bc530c",
   "metadata": {},
   "source": [
    "objective\n",
    "List popular languages for Data Science  \n",
    "- Understand the ecosystem of Data Science tools  \n",
    "- Identify commonly used Data Science libraries  \n",
    "- Learn to create ordered and unordered lists in Markdown  \n",
    "- Write and execute basic arithmetic expressions in Python  \n",
    "\n",
    "languages = [\"Python\", \"R\", \"SQL\"]\n",
    "for lang in languages:\n",
    "    print(f\"- {lang}\")"
   ]
  },
  {
   "cell_type": "markdown",
   "id": "580a3542-f066-4a08-a529-da9c7d86b239",
   "metadata": {},
   "source": [
    "List Data Science Languages\n",
    "\n",
    "some popupalr lanhuages that sta scientists use are:\n",
    "1. Python\n",
    "2. R\n",
    "3. SQL (Structured Query Language)\n",
    "4. julia\n",
    "5. scala\n",
    "6. java\n",
    "7. MATLAN\n",
    "8. SAS\n",
    "\n",
    "ORDERED LIST\n",
    "# Create a list of languages\n",
    "languages = [\"Python\", \"R\", \"SQL\"]\n",
    "\n",
    "# Display as an ordered list\n",
    "for i, lang in enumerate(languages, start=1):\n",
    "    print(f\"{i}. {lang}\")"
   ]
  },
  {
   "cell_type": "markdown",
   "id": "2f1373ca-7850-4d4d-b858-0443846fb60e",
   "metadata": {},
   "source": [
    "List data science libraries \n",
    "\n",
    "Data Science Libraries in Python :\n",
    "1. NumPy – For numerical operations and handling arrays.\n",
    "2. Pandas – For data manipulation and analysis using DataFrames.\n",
    "3. Matplotlib – For creating basic data visualizations (charts, graphs).\n",
    "4. Seaborn – Built on Matplotlib, for advanced and attractive statistical plots.\n",
    "5. Scikit-learn – For machine learning algorithms (classification, regression, clustering).\n",
    "6. TensorFlow – For deep learning and neural networks (developed by Google).\n",
    "7. Keras – High-level API for building and training deep learning models (runs on TensorFlow).\n",
    "8. PyTorch – Deep learning library (developed by Facebook), popular for research and production.\n",
    "9. Statsmodels – For statistical modeling and hypothesis testing.\n",
    "10. XGBoost – Optimized library for gradient boosting used in structured/tabular data.\n",
    "\n",
    "\n"
   ]
  },
  {
   "cell_type": "markdown",
   "id": "44112955-1883-45ca-94b4-6983796c65cc",
   "metadata": {},
   "source": [
    "table of data science tools \n",
    "\n",
    "\n",
    "| **Tool**             | **Category**             | **Description**                                                            |\n",
    "| -------------------- | ------------------------ | -------------------------------------------------------------------------- |\n",
    "| **Python**           | Programming Language     | General-purpose language with vast libraries for data science and ML.      |\n",
    "| **R**                | Programming Language     | Specialized in statistical computing and data visualization.               |\n",
    "| **SQL**              | Query Language           | Used to retrieve and manage data in relational databases.                  |\n",
    "| **Jupyter Notebook** | IDE/Notebook             | Interactive coding environment for data analysis and visualization.        |\n",
    "| **Anaconda**         | Package Manager/Platform | Distribution of Python and R for scientific computing and data science.    |\n",
    "| **TensorFlow**       | Machine Learning Library | Open-source framework for deep learning developed by Google.               |\n",
    "| **PyTorch**          | Machine Learning Library | Deep learning framework known for flexibility and research support.        |\n",
    "| **Scikit-learn**     | ML Library               | Library for classical machine learning algorithms in Python.               |\n",
    "| **Pandas**           | Data Manipulation        | Powerful data structures for data wrangling and analysis.                  |\n",
    "| **NumPy**            | Numerical Computing      | Support for large, multi-dimensional arrays and matrices.                  |\n",
    "| **Matplotlib**       | Data Visualization       | Basic plotting library for visualizing data.                               |\n",
    "| **Seaborn**          | Data Visualization       | Statistical data visualization built on top of Matplotlib.                 |\n",
    "| **Tableau**          | BI/Visualization Tool    | Drag-and-drop tool for creating interactive dashboards and visualizations. |\n",
    "| **Power BI**         | BI/Visualization Tool    | Business intelligence tool for interactive reports from Microsoft.         |\n",
    "| **Hadoop**           | Big Data Framework       | Framework for distributed storage and processing of large data sets.       |\n",
    "| **Apache Spark**     | Big Data & ML Framework  | Fast big data processing engine with machine learning support.             |\n",
    "\n",
    "\n"
   ]
  },
  {
   "cell_type": "markdown",
   "id": "aefba784-95ac-44da-be5a-09da8c375dff",
   "metadata": {},
   "source": [
    "Introducing arithmetic expression example \n",
    "\n",
    "Arithmetic expressions are combinations of numbers, operators, and sometimes variables, used to perform basic math operations like addition, subtraction, multiplication, and division.\\\n",
    "Below are a few examples of evaluating arithmetic expression in python :\n",
    "\n",
    "1. EXAMPLE:\n",
    "x = 7\n",
    "y = 2\n",
    "z = (x + y) * 3 - 4 / 2\n",
    "print(z) \n",
    "\n",
    "2. EXAMPLE:\n",
    "a = 10\n",
    "b = 3\n",
    "print(a + b)     # Output: 13\n",
    "print(a - b)     # Output: 7\n",
    "print(a * b)     # Output: 30\n",
    "print(a / b)     # Output: 3.333...\n",
    "print(a // b)    # Output: 3\n",
    "print(a % b)     # Output: 1\n",
    "print(a ** b)    # Output: 1000\n",
    "\n"
   ]
  },
  {
   "cell_type": "code",
   "execution_count": 1,
   "id": "e7632934-de35-468f-a9c0-3395f98d55a6",
   "metadata": {},
   "outputs": [
    {
     "name": "stdin",
     "output_type": "stream",
     "text": [
      "Enter first number:  2\n",
      "Enter second number:  3\n"
     ]
    },
    {
     "name": "stdout",
     "output_type": "stream",
     "text": [
      "The product of 2.0 and 3.0 is: 6.0\n",
      "The sum of 2.0 and 3.0 is: 5.0\n"
     ]
    }
   ],
   "source": [
    "##multiply and add numbers\n",
    "num1 = float(input(\"Enter first number: \"))\n",
    "num2 = float(input(\"Enter second number: \"))\n",
    "product = num1 * num2\n",
    "sum_result = num1 + num2\n",
    "print(f\"The product of {num1} and {num2} is: {product}\")\n",
    "print(f\"The sum of {num1} and {num2} is: {sum_result}\")\n"
   ]
  },
  {
   "cell_type": "code",
   "execution_count": 5,
   "id": "3878bbd3-5906-4420-acc4-35169b0f1cf8",
   "metadata": {},
   "outputs": [
    {
     "name": "stdin",
     "output_type": "stream",
     "text": [
      "Enter total minutes:  200\n"
     ]
    },
    {
     "name": "stdout",
     "output_type": "stream",
     "text": [
      "200 minutes = 3 hour(s) and 20 minute(s)\n"
     ]
    }
   ],
   "source": [
    "##convert mintues to hours \n",
    "minutes = int(input(\"Enter total minutes: \"))\n",
    "hours = minutes // 60\n",
    "remaining_minutes = minutes % 60\n",
    "print(f\"{minutes} minutes = {hours} hour(s) and {remaining_minutes} minute(s)\")\n",
    "\n"
   ]
  },
  {
   "cell_type": "markdown",
   "id": "70861d56-81a8-4aea-9ec2-f06fd1fcb4fc",
   "metadata": {},
   "source": [
    "##AUTHOR\n",
    "\n",
    "Roshani\n"
   ]
  }
 ],
 "metadata": {
  "kernelspec": {
   "display_name": "Python [conda env:base] *",
   "language": "python",
   "name": "conda-base-py"
  },
  "language_info": {
   "codemirror_mode": {
    "name": "ipython",
    "version": 3
   },
   "file_extension": ".py",
   "mimetype": "text/x-python",
   "name": "python",
   "nbconvert_exporter": "python",
   "pygments_lexer": "ipython3",
   "version": "3.12.7"
  }
 },
 "nbformat": 4,
 "nbformat_minor": 5
}
